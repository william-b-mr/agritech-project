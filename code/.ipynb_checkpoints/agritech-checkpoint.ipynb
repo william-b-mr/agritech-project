{
 "cells": [
  {
   "cell_type": "code",
   "execution_count": 2,
   "id": "10039fce",
   "metadata": {},
   "outputs": [],
   "source": [
    "import pandas as pd\n",
    "import numpy as np\n",
    "import matplotlib.pyplot as plt\n",
    "import seaborn as sns\n",
    "import os\n",
    "from google.cloud import bigquery\n",
    "import datetime as dt"
   ]
  },
  {
   "cell_type": "code",
   "execution_count": 4,
   "id": "c7ce1ad4",
   "metadata": {},
   "outputs": [],
   "source": [
    "def get_df_from_bq(project_name, query):\n",
    "    \"\"\"\n",
    "    configurar primeiro a CLI do google cloud \n",
    "    \"\"\"\n",
    "    client = bigquery.Client(project=project_name)\n",
    "    query_job = client.query(query)\n",
    "    df = query_job.result().to_dataframe()\n",
    "\n",
    "    return df"
   ]
  },
  {
   "cell_type": "code",
   "execution_count": 5,
   "id": "73da6628",
   "metadata": {},
   "outputs": [],
   "source": [
    "query = \"SELECT * FROM `windproject-393609.FAOSTAT.crop_yield`\"\n",
    "project_name = \"windproject-393609\"\n",
    "df = get_df_from_bq(project_name, query)"
   ]
  },
  {
   "cell_type": "code",
   "execution_count": 7,
   "id": "a291b4ad",
   "metadata": {},
   "outputs": [
    {
     "data": {
      "text/html": [
       "<div>\n",
       "<style scoped>\n",
       "    .dataframe tbody tr th:only-of-type {\n",
       "        vertical-align: middle;\n",
       "    }\n",
       "\n",
       "    .dataframe tbody tr th {\n",
       "        vertical-align: top;\n",
       "    }\n",
       "\n",
       "    .dataframe thead th {\n",
       "        text-align: right;\n",
       "    }\n",
       "</style>\n",
       "<table border=\"1\" class=\"dataframe\">\n",
       "  <thead>\n",
       "    <tr style=\"text-align: right;\">\n",
       "      <th></th>\n",
       "      <th>Domain_Code</th>\n",
       "      <th>Domain</th>\n",
       "      <th>Area_Code__M49_</th>\n",
       "      <th>Area</th>\n",
       "      <th>Element_Code</th>\n",
       "      <th>Element</th>\n",
       "      <th>Item_Code__CPC_</th>\n",
       "      <th>Item</th>\n",
       "      <th>Year_Code</th>\n",
       "      <th>Year</th>\n",
       "      <th>Unit</th>\n",
       "      <th>Value</th>\n",
       "      <th>Flag</th>\n",
       "      <th>Flag_Description</th>\n",
       "    </tr>\n",
       "  </thead>\n",
       "  <tbody>\n",
       "    <tr>\n",
       "      <th>0</th>\n",
       "      <td>QCL</td>\n",
       "      <td>Crops and livestock products</td>\n",
       "      <td>4</td>\n",
       "      <td>Afghanistan</td>\n",
       "      <td>5419</td>\n",
       "      <td>Yield</td>\n",
       "      <td>1312</td>\n",
       "      <td>Bananas</td>\n",
       "      <td>1961</td>\n",
       "      <td>1961</td>\n",
       "      <td></td>\n",
       "      <td>NaN</td>\n",
       "      <td></td>\n",
       "      <td></td>\n",
       "    </tr>\n",
       "    <tr>\n",
       "      <th>1</th>\n",
       "      <td>QCL</td>\n",
       "      <td>Crops and livestock products</td>\n",
       "      <td>4</td>\n",
       "      <td>Afghanistan</td>\n",
       "      <td>5419</td>\n",
       "      <td>Yield</td>\n",
       "      <td>1312</td>\n",
       "      <td>Bananas</td>\n",
       "      <td>1962</td>\n",
       "      <td>1962</td>\n",
       "      <td></td>\n",
       "      <td>NaN</td>\n",
       "      <td></td>\n",
       "      <td></td>\n",
       "    </tr>\n",
       "    <tr>\n",
       "      <th>2</th>\n",
       "      <td>QCL</td>\n",
       "      <td>Crops and livestock products</td>\n",
       "      <td>4</td>\n",
       "      <td>Afghanistan</td>\n",
       "      <td>5419</td>\n",
       "      <td>Yield</td>\n",
       "      <td>1312</td>\n",
       "      <td>Bananas</td>\n",
       "      <td>1963</td>\n",
       "      <td>1963</td>\n",
       "      <td></td>\n",
       "      <td>NaN</td>\n",
       "      <td></td>\n",
       "      <td></td>\n",
       "    </tr>\n",
       "    <tr>\n",
       "      <th>3</th>\n",
       "      <td>QCL</td>\n",
       "      <td>Crops and livestock products</td>\n",
       "      <td>4</td>\n",
       "      <td>Afghanistan</td>\n",
       "      <td>5419</td>\n",
       "      <td>Yield</td>\n",
       "      <td>1312</td>\n",
       "      <td>Bananas</td>\n",
       "      <td>1964</td>\n",
       "      <td>1964</td>\n",
       "      <td></td>\n",
       "      <td>NaN</td>\n",
       "      <td></td>\n",
       "      <td></td>\n",
       "    </tr>\n",
       "    <tr>\n",
       "      <th>4</th>\n",
       "      <td>QCL</td>\n",
       "      <td>Crops and livestock products</td>\n",
       "      <td>4</td>\n",
       "      <td>Afghanistan</td>\n",
       "      <td>5419</td>\n",
       "      <td>Yield</td>\n",
       "      <td>1312</td>\n",
       "      <td>Bananas</td>\n",
       "      <td>1965</td>\n",
       "      <td>1965</td>\n",
       "      <td></td>\n",
       "      <td>NaN</td>\n",
       "      <td></td>\n",
       "      <td></td>\n",
       "    </tr>\n",
       "  </tbody>\n",
       "</table>\n",
       "</div>"
      ],
      "text/plain": [
       "  Domain_Code                        Domain  Area_Code__M49_         Area  \\\n",
       "0         QCL  Crops and livestock products                4  Afghanistan   \n",
       "1         QCL  Crops and livestock products                4  Afghanistan   \n",
       "2         QCL  Crops and livestock products                4  Afghanistan   \n",
       "3         QCL  Crops and livestock products                4  Afghanistan   \n",
       "4         QCL  Crops and livestock products                4  Afghanistan   \n",
       "\n",
       "   Element_Code Element  Item_Code__CPC_     Item  Year_Code  Year Unit  \\\n",
       "0          5419   Yield             1312  Bananas       1961  1961        \n",
       "1          5419   Yield             1312  Bananas       1962  1962        \n",
       "2          5419   Yield             1312  Bananas       1963  1963        \n",
       "3          5419   Yield             1312  Bananas       1964  1964        \n",
       "4          5419   Yield             1312  Bananas       1965  1965        \n",
       "\n",
       "   Value Flag Flag_Description  \n",
       "0    NaN                        \n",
       "1    NaN                        \n",
       "2    NaN                        \n",
       "3    NaN                        \n",
       "4    NaN                        "
      ]
     },
     "execution_count": 7,
     "metadata": {},
     "output_type": "execute_result"
    }
   ],
   "source": [
    "df.head()"
   ]
  },
  {
   "cell_type": "code",
   "execution_count": 9,
   "id": "380ff20f",
   "metadata": {},
   "outputs": [],
   "source": [
    "df.drop(columns = [\"Domain_Code\",\"Area_Code__M49_\",\"Element_Code\",\"Item_Code__CPC_\",\"Year_Code\"], inplace = True)"
   ]
  },
  {
   "cell_type": "code",
   "execution_count": 10,
   "id": "732fc149",
   "metadata": {},
   "outputs": [
    {
     "data": {
      "text/plain": [
       "(115839, 9)"
      ]
     },
     "execution_count": 10,
     "metadata": {},
     "output_type": "execute_result"
    }
   ],
   "source": [
    "df.shape"
   ]
  },
  {
   "cell_type": "code",
   "execution_count": 11,
   "id": "ea33d403",
   "metadata": {},
   "outputs": [
    {
     "data": {
      "text/plain": [
       "Domain\n",
       "Crops and livestock products    115839\n",
       "Name: count, dtype: int64"
      ]
     },
     "execution_count": 11,
     "metadata": {},
     "output_type": "execute_result"
    }
   ],
   "source": [
    "df.Domain.value_counts()"
   ]
  },
  {
   "cell_type": "code",
   "execution_count": 12,
   "id": "b4b6e017",
   "metadata": {},
   "outputs": [
    {
     "data": {
      "text/plain": [
       "Area\n",
       "Afghanistan       549\n",
       "Yugoslav SFR      549\n",
       "Sri Lanka         549\n",
       "Sudan             549\n",
       "Sudan (former)    549\n",
       "                 ... \n",
       "Kuwait            549\n",
       "Kyrgyzstan        549\n",
       "Latvia            549\n",
       "Lebanon           549\n",
       "Zimbabwe          549\n",
       "Name: count, Length: 211, dtype: int64"
      ]
     },
     "execution_count": 12,
     "metadata": {},
     "output_type": "execute_result"
    }
   ],
   "source": [
    "df.Area.value_counts()"
   ]
  },
  {
   "cell_type": "code",
   "execution_count": 13,
   "id": "737e3d8f",
   "metadata": {},
   "outputs": [
    {
     "data": {
      "text/plain": [
       "Element\n",
       "Yield             38613\n",
       "Production        38613\n",
       "Area harvested    38613\n",
       "Name: count, dtype: int64"
      ]
     },
     "execution_count": 13,
     "metadata": {},
     "output_type": "execute_result"
    }
   ],
   "source": [
    "df.Element.value_counts()"
   ]
  },
  {
   "cell_type": "code",
   "execution_count": 14,
   "id": "19d4707c",
   "metadata": {},
   "outputs": [
    {
     "data": {
      "text/plain": [
       "Item\n",
       "Bananas     38613\n",
       "Rice        38613\n",
       "Potatoes    38613\n",
       "Name: count, dtype: int64"
      ]
     },
     "execution_count": 14,
     "metadata": {},
     "output_type": "execute_result"
    }
   ],
   "source": [
    "df.Item.value_counts()"
   ]
  },
  {
   "cell_type": "code",
   "execution_count": 16,
   "id": "afeb96d4",
   "metadata": {},
   "outputs": [
    {
     "data": {
      "text/plain": [
       "Year\n",
       "1961    1899\n",
       "1992    1899\n",
       "1994    1899\n",
       "1995    1899\n",
       "1996    1899\n",
       "        ... \n",
       "1986    1899\n",
       "1987    1899\n",
       "1988    1899\n",
       "1989    1899\n",
       "2021    1899\n",
       "Name: count, Length: 61, dtype: Int64"
      ]
     },
     "execution_count": 16,
     "metadata": {},
     "output_type": "execute_result"
    }
   ],
   "source": [
    "df.Year.value_counts()"
   ]
  },
  {
   "cell_type": "code",
   "execution_count": 18,
   "id": "05115d2d",
   "metadata": {},
   "outputs": [
    {
     "data": {
      "text/plain": [
       "Unit\n",
       "            46387\n",
       "t           23491\n",
       "ha          23418\n",
       "100 g/ha    22543\n",
       "Name: count, dtype: int64"
      ]
     },
     "execution_count": 18,
     "metadata": {},
     "output_type": "execute_result"
    }
   ],
   "source": [
    "df.Unit.value_counts()"
   ]
  },
  {
   "cell_type": "code",
   "execution_count": 20,
   "id": "66392219",
   "metadata": {},
   "outputs": [
    {
     "data": {
      "text/plain": [
       "count    6.945200e+04\n",
       "mean     1.172701e+06\n",
       "std      8.939387e+06\n",
       "min      0.000000e+00\n",
       "25%      1.000000e+04\n",
       "50%      5.330500e+04\n",
       "75%      2.000000e+05\n",
       "max      2.144299e+08\n",
       "Name: Value, dtype: float64"
      ]
     },
     "execution_count": 20,
     "metadata": {},
     "output_type": "execute_result"
    }
   ],
   "source": [
    "df.Value.describe()"
   ]
  },
  {
   "cell_type": "code",
   "execution_count": null,
   "id": "79c93388",
   "metadata": {},
   "outputs": [],
   "source": []
  },
  {
   "cell_type": "code",
   "execution_count": null,
   "id": "8265bf54",
   "metadata": {},
   "outputs": [],
   "source": []
  },
  {
   "cell_type": "code",
   "execution_count": null,
   "id": "41f30cd7",
   "metadata": {},
   "outputs": [],
   "source": []
  }
 ],
 "metadata": {
  "kernelspec": {
   "display_name": "Python 3",
   "language": "python",
   "name": "python3"
  },
  "language_info": {
   "codemirror_mode": {
    "name": "ipython",
    "version": 3
   },
   "file_extension": ".py",
   "mimetype": "text/x-python",
   "name": "python",
   "nbconvert_exporter": "python",
   "pygments_lexer": "ipython3",
   "version": "3.8.5"
  }
 },
 "nbformat": 4,
 "nbformat_minor": 5
}
