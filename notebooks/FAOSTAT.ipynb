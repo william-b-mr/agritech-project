{
 "cells": [
  {
   "cell_type": "markdown",
   "id": "8e0b5a75",
   "metadata": {},
   "source": [
    "# FAOSTAT data imporation study and optimization"
   ]
  },
  {
   "cell_type": "markdown",
   "id": "7627be8b",
   "metadata": {},
   "source": [
    "This notebook is a study of the faostat package, which allows to directly retrieve data about several agricultural and economic parameters. All of it comes from the Food and Agriculture Organization of the United States"
   ]
  },
  {
   "cell_type": "code",
   "execution_count": 1,
   "id": "b06310e5",
   "metadata": {},
   "outputs": [],
   "source": [
    "import pandas as pd\n",
    "import numpy as np\n",
    "import faostat\n",
    "import matplotlib.pyplot as plt\n",
    "import random\n",
    "import seaborn as sns"
   ]
  },
  {
   "cell_type": "markdown",
   "id": "55e924ed",
   "metadata": {},
   "source": [
    "### Encoding the types of data "
   ]
  },
  {
   "cell_type": "markdown",
   "id": "608f26fe",
   "metadata": {},
   "source": [
    "First of all, we'll import dictionaries that encode certain parameters. We need this codification for later use on querying specific subsets of data"
   ]
  },
  {
   "cell_type": "code",
   "execution_count": 2,
   "id": "b58d6891",
   "metadata": {},
   "outputs": [],
   "source": [
    "datasets = faostat.list_datasets() # A list of tuples containing each dataset available. The first tuple contains the header of the information"
   ]
  },
  {
   "cell_type": "code",
   "execution_count": 3,
   "id": "a2bb0cfa",
   "metadata": {},
   "outputs": [
    {
     "data": {
      "text/plain": [
       "('code',\n",
       " 'label',\n",
       " 'date_update',\n",
       " 'note_update',\n",
       " 'release_current',\n",
       " 'state_current',\n",
       " 'year_current',\n",
       " 'release_next',\n",
       " 'state_next',\n",
       " 'year_next')"
      ]
     },
     "execution_count": 3,
     "metadata": {},
     "output_type": "execute_result"
    }
   ],
   "source": [
    "datasets [0]"
   ]
  },
  {
   "cell_type": "code",
   "execution_count": 4,
   "id": "571ff405",
   "metadata": {},
   "outputs": [
    {
     "data": {
      "text/plain": [
       "[('QCL',\n",
       "  'Crops and livestock products',\n",
       "  '2023-03-24',\n",
       "  'minor revision',\n",
       "  '2022-12-23 / 2023-03-24',\n",
       "  'final',\n",
       "  '2021',\n",
       "  '2023-12',\n",
       "  'final',\n",
       "  '2022'),\n",
       " ('QI',\n",
       "  'Production Indices',\n",
       "  '2023-03-21',\n",
       "  '',\n",
       "  '2023-03-21',\n",
       "  'final',\n",
       "  '2021',\n",
       "  '2023-12',\n",
       "  'final',\n",
       "  '2022')]"
      ]
     },
     "execution_count": 4,
     "metadata": {},
     "output_type": "execute_result"
    }
   ],
   "source": [
    "datasets[1:3]"
   ]
  },
  {
   "cell_type": "markdown",
   "id": "221d8f85",
   "metadata": {},
   "source": [
    "The first element of each tuple (code) is what we want to get a specific dataset in future functions (whenever \"code\" is asked for)."
   ]
  },
  {
   "cell_type": "markdown",
   "id": "0dde0573",
   "metadata": {},
   "source": [
    "The following dictionaries will be applicable for Crops and livestock products ('QCL')"
   ]
  },
  {
   "cell_type": "code",
   "execution_count": 5,
   "id": "ffd56891",
   "metadata": {},
   "outputs": [],
   "source": [
    "areas_QCL = faostat.get_areas('QCL')\n",
    "elements_QCL = faostat.get_elements('QCL')\n",
    "items_QCL = faostat.get_items('QCL')"
   ]
  },
  {
   "cell_type": "code",
   "execution_count": 6,
   "id": "f8e3ff44",
   "metadata": {},
   "outputs": [
    {
     "name": "stdout",
     "output_type": "stream",
     "text": [
      "Sample of encoding for countries, elements(value) and items:\n",
      "[('Albania', '3'), ('Algeria', '4'), ('Angola', '7'), ('Antigua and Barbuda', '8')]\n",
      "[('Yield', '2413'), ('Production Quantity', '2510'), ('Stocks', '2111'), ('Producing Animals/Slaughtered', '2313')]\n",
      "[('Agave fibres, raw, n.e.c.', '800'), ('Almonds, in shell', '221'), ('Anise, badian, coriander, cumin, caraway, fennel and juniper berries, raw', '711'), ('Apples', '515')]\n"
     ]
    }
   ],
   "source": [
    "print('Sample of encoding for countries, elements(value) and items:')\n",
    "for dict in areas_QCL,elements_QCL,items_QCL:\n",
    "    print(list(dict.items())[1:5])"
   ]
  },
  {
   "cell_type": "markdown",
   "id": "92b1512a",
   "metadata": {},
   "source": [
    "This will be useful for slicing and querying data later on!"
   ]
  },
  {
   "cell_type": "code",
   "execution_count": 7,
   "id": "b51fbf9c",
   "metadata": {},
   "outputs": [
    {
     "data": {
      "text/plain": [
       "'260'"
      ]
     },
     "execution_count": 7,
     "metadata": {},
     "output_type": "execute_result"
    }
   ],
   "source": [
    "items_QCL['Olives']"
   ]
  },
  {
   "cell_type": "code",
   "execution_count": 8,
   "id": "be18a4ea",
   "metadata": {},
   "outputs": [
    {
     "data": {
      "text/plain": [
       "{'Area harvested': '2312',\n",
       " 'Yield': '2413',\n",
       " 'Production Quantity': '2510',\n",
       " 'Stocks': '2111',\n",
       " 'Producing Animals/Slaughtered': '2313'}"
      ]
     },
     "execution_count": 8,
     "metadata": {},
     "output_type": "execute_result"
    }
   ],
   "source": [
    "elements_QCL"
   ]
  },
  {
   "cell_type": "markdown",
   "id": "11b8c3fc",
   "metadata": {},
   "source": [
    "### Fetching our first pandas datasets from FAOSTAT"
   ]
  },
  {
   "cell_type": "markdown",
   "id": "6e6aa79c",
   "metadata": {},
   "source": [
    "The following function is used to directtcly fetch data:"
   ]
  },
  {
   "cell_type": "raw",
   "id": "94699ac0",
   "metadata": {},
   "source": [
    "faostat.get_data_df(code, pars={}, show_flags=False, null_values=False, https_proxy=None)"
   ]
  },
  {
   "cell_type": "markdown",
   "id": "9b31ec97",
   "metadata": {},
   "source": [
    "And this is where the above encoding comes in. We need to fill out the variable code, and the pars dictionary for the specific items/countries/elements desired. This is advised in order to query only the ammount of data we wish for (cpu time and disk space optimization)"
   ]
  },
  {
   "cell_type": "markdown",
   "id": "dd9900d8",
   "metadata": {},
   "source": [
    "Lets consider the following example, where we want to fetch data related to Olives yield in Portugal:"
   ]
  },
  {
   "cell_type": "code",
   "execution_count": 9,
   "id": "ea849c58",
   "metadata": {},
   "outputs": [
    {
     "data": {
      "text/html": [
       "<div>\n",
       "<style scoped>\n",
       "    .dataframe tbody tr th:only-of-type {\n",
       "        vertical-align: middle;\n",
       "    }\n",
       "\n",
       "    .dataframe tbody tr th {\n",
       "        vertical-align: top;\n",
       "    }\n",
       "\n",
       "    .dataframe thead th {\n",
       "        text-align: right;\n",
       "    }\n",
       "</style>\n",
       "<table border=\"1\" class=\"dataframe\">\n",
       "  <thead>\n",
       "    <tr style=\"text-align: right;\">\n",
       "      <th></th>\n",
       "      <th>Domain Code</th>\n",
       "      <th>Domain</th>\n",
       "      <th>Area Code (FAO)</th>\n",
       "      <th>Area</th>\n",
       "      <th>Element Code</th>\n",
       "      <th>Element</th>\n",
       "      <th>Item Code</th>\n",
       "      <th>Item</th>\n",
       "      <th>Year Code</th>\n",
       "      <th>Year</th>\n",
       "      <th>Unit</th>\n",
       "      <th>Value</th>\n",
       "    </tr>\n",
       "  </thead>\n",
       "  <tbody>\n",
       "    <tr>\n",
       "      <th>0</th>\n",
       "      <td>QCL</td>\n",
       "      <td>Crops and livestock products</td>\n",
       "      <td>174</td>\n",
       "      <td>Portugal</td>\n",
       "      <td>5419</td>\n",
       "      <td>Yield</td>\n",
       "      <td>260</td>\n",
       "      <td>Olives</td>\n",
       "      <td>1985</td>\n",
       "      <td>1985</td>\n",
       "      <td>100 g/ha</td>\n",
       "      <td>6860</td>\n",
       "    </tr>\n",
       "    <tr>\n",
       "      <th>1</th>\n",
       "      <td>QCL</td>\n",
       "      <td>Crops and livestock products</td>\n",
       "      <td>174</td>\n",
       "      <td>Portugal</td>\n",
       "      <td>5419</td>\n",
       "      <td>Yield</td>\n",
       "      <td>260</td>\n",
       "      <td>Olives</td>\n",
       "      <td>1986</td>\n",
       "      <td>1986</td>\n",
       "      <td>100 g/ha</td>\n",
       "      <td>10482</td>\n",
       "    </tr>\n",
       "    <tr>\n",
       "      <th>2</th>\n",
       "      <td>QCL</td>\n",
       "      <td>Crops and livestock products</td>\n",
       "      <td>174</td>\n",
       "      <td>Portugal</td>\n",
       "      <td>5419</td>\n",
       "      <td>Yield</td>\n",
       "      <td>260</td>\n",
       "      <td>Olives</td>\n",
       "      <td>1987</td>\n",
       "      <td>1987</td>\n",
       "      <td>100 g/ha</td>\n",
       "      <td>8553</td>\n",
       "    </tr>\n",
       "    <tr>\n",
       "      <th>3</th>\n",
       "      <td>QCL</td>\n",
       "      <td>Crops and livestock products</td>\n",
       "      <td>174</td>\n",
       "      <td>Portugal</td>\n",
       "      <td>5419</td>\n",
       "      <td>Yield</td>\n",
       "      <td>260</td>\n",
       "      <td>Olives</td>\n",
       "      <td>1988</td>\n",
       "      <td>1988</td>\n",
       "      <td>100 g/ha</td>\n",
       "      <td>3812</td>\n",
       "    </tr>\n",
       "    <tr>\n",
       "      <th>4</th>\n",
       "      <td>QCL</td>\n",
       "      <td>Crops and livestock products</td>\n",
       "      <td>174</td>\n",
       "      <td>Portugal</td>\n",
       "      <td>5419</td>\n",
       "      <td>Yield</td>\n",
       "      <td>260</td>\n",
       "      <td>Olives</td>\n",
       "      <td>1989</td>\n",
       "      <td>1989</td>\n",
       "      <td>100 g/ha</td>\n",
       "      <td>9715</td>\n",
       "    </tr>\n",
       "    <tr>\n",
       "      <th>5</th>\n",
       "      <td>QCL</td>\n",
       "      <td>Crops and livestock products</td>\n",
       "      <td>174</td>\n",
       "      <td>Portugal</td>\n",
       "      <td>5419</td>\n",
       "      <td>Yield</td>\n",
       "      <td>260</td>\n",
       "      <td>Olives</td>\n",
       "      <td>1990</td>\n",
       "      <td>1990</td>\n",
       "      <td>100 g/ha</td>\n",
       "      <td>5863</td>\n",
       "    </tr>\n",
       "    <tr>\n",
       "      <th>6</th>\n",
       "      <td>QCL</td>\n",
       "      <td>Crops and livestock products</td>\n",
       "      <td>174</td>\n",
       "      <td>Portugal</td>\n",
       "      <td>5419</td>\n",
       "      <td>Yield</td>\n",
       "      <td>260</td>\n",
       "      <td>Olives</td>\n",
       "      <td>1991</td>\n",
       "      <td>1991</td>\n",
       "      <td>100 g/ha</td>\n",
       "      <td>13292</td>\n",
       "    </tr>\n",
       "    <tr>\n",
       "      <th>7</th>\n",
       "      <td>QCL</td>\n",
       "      <td>Crops and livestock products</td>\n",
       "      <td>174</td>\n",
       "      <td>Portugal</td>\n",
       "      <td>5419</td>\n",
       "      <td>Yield</td>\n",
       "      <td>260</td>\n",
       "      <td>Olives</td>\n",
       "      <td>1992</td>\n",
       "      <td>1992</td>\n",
       "      <td>100 g/ha</td>\n",
       "      <td>4636</td>\n",
       "    </tr>\n",
       "    <tr>\n",
       "      <th>8</th>\n",
       "      <td>QCL</td>\n",
       "      <td>Crops and livestock products</td>\n",
       "      <td>174</td>\n",
       "      <td>Portugal</td>\n",
       "      <td>5419</td>\n",
       "      <td>Yield</td>\n",
       "      <td>260</td>\n",
       "      <td>Olives</td>\n",
       "      <td>1993</td>\n",
       "      <td>1993</td>\n",
       "      <td>100 g/ha</td>\n",
       "      <td>7296</td>\n",
       "    </tr>\n",
       "    <tr>\n",
       "      <th>9</th>\n",
       "      <td>QCL</td>\n",
       "      <td>Crops and livestock products</td>\n",
       "      <td>174</td>\n",
       "      <td>Portugal</td>\n",
       "      <td>5419</td>\n",
       "      <td>Yield</td>\n",
       "      <td>260</td>\n",
       "      <td>Olives</td>\n",
       "      <td>1994</td>\n",
       "      <td>1994</td>\n",
       "      <td>100 g/ha</td>\n",
       "      <td>6816</td>\n",
       "    </tr>\n",
       "    <tr>\n",
       "      <th>10</th>\n",
       "      <td>QCL</td>\n",
       "      <td>Crops and livestock products</td>\n",
       "      <td>174</td>\n",
       "      <td>Portugal</td>\n",
       "      <td>5419</td>\n",
       "      <td>Yield</td>\n",
       "      <td>260</td>\n",
       "      <td>Olives</td>\n",
       "      <td>1995</td>\n",
       "      <td>1995</td>\n",
       "      <td>100 g/ha</td>\n",
       "      <td>9598</td>\n",
       "    </tr>\n",
       "    <tr>\n",
       "      <th>11</th>\n",
       "      <td>QCL</td>\n",
       "      <td>Crops and livestock products</td>\n",
       "      <td>174</td>\n",
       "      <td>Portugal</td>\n",
       "      <td>5419</td>\n",
       "      <td>Yield</td>\n",
       "      <td>260</td>\n",
       "      <td>Olives</td>\n",
       "      <td>1996</td>\n",
       "      <td>1996</td>\n",
       "      <td>100 g/ha</td>\n",
       "      <td>8440</td>\n",
       "    </tr>\n",
       "    <tr>\n",
       "      <th>12</th>\n",
       "      <td>QCL</td>\n",
       "      <td>Crops and livestock products</td>\n",
       "      <td>174</td>\n",
       "      <td>Portugal</td>\n",
       "      <td>5419</td>\n",
       "      <td>Yield</td>\n",
       "      <td>260</td>\n",
       "      <td>Olives</td>\n",
       "      <td>1997</td>\n",
       "      <td>1997</td>\n",
       "      <td>100 g/ha</td>\n",
       "      <td>9437</td>\n",
       "    </tr>\n",
       "    <tr>\n",
       "      <th>13</th>\n",
       "      <td>QCL</td>\n",
       "      <td>Crops and livestock products</td>\n",
       "      <td>174</td>\n",
       "      <td>Portugal</td>\n",
       "      <td>5419</td>\n",
       "      <td>Yield</td>\n",
       "      <td>260</td>\n",
       "      <td>Olives</td>\n",
       "      <td>1998</td>\n",
       "      <td>1998</td>\n",
       "      <td>100 g/ha</td>\n",
       "      <td>6744</td>\n",
       "    </tr>\n",
       "    <tr>\n",
       "      <th>14</th>\n",
       "      <td>QCL</td>\n",
       "      <td>Crops and livestock products</td>\n",
       "      <td>174</td>\n",
       "      <td>Portugal</td>\n",
       "      <td>5419</td>\n",
       "      <td>Yield</td>\n",
       "      <td>260</td>\n",
       "      <td>Olives</td>\n",
       "      <td>1999</td>\n",
       "      <td>1999</td>\n",
       "      <td>100 g/ha</td>\n",
       "      <td>9012</td>\n",
       "    </tr>\n",
       "    <tr>\n",
       "      <th>15</th>\n",
       "      <td>QCL</td>\n",
       "      <td>Crops and livestock products</td>\n",
       "      <td>174</td>\n",
       "      <td>Portugal</td>\n",
       "      <td>5419</td>\n",
       "      <td>Yield</td>\n",
       "      <td>260</td>\n",
       "      <td>Olives</td>\n",
       "      <td>2000</td>\n",
       "      <td>2000</td>\n",
       "      <td>100 g/ha</td>\n",
       "      <td>4748</td>\n",
       "    </tr>\n",
       "    <tr>\n",
       "      <th>16</th>\n",
       "      <td>QCL</td>\n",
       "      <td>Crops and livestock products</td>\n",
       "      <td>174</td>\n",
       "      <td>Portugal</td>\n",
       "      <td>5419</td>\n",
       "      <td>Yield</td>\n",
       "      <td>260</td>\n",
       "      <td>Olives</td>\n",
       "      <td>2001</td>\n",
       "      <td>2001</td>\n",
       "      <td>100 g/ha</td>\n",
       "      <td>6423</td>\n",
       "    </tr>\n",
       "    <tr>\n",
       "      <th>17</th>\n",
       "      <td>QCL</td>\n",
       "      <td>Crops and livestock products</td>\n",
       "      <td>174</td>\n",
       "      <td>Portugal</td>\n",
       "      <td>5419</td>\n",
       "      <td>Yield</td>\n",
       "      <td>260</td>\n",
       "      <td>Olives</td>\n",
       "      <td>2002</td>\n",
       "      <td>2002</td>\n",
       "      <td>100 g/ha</td>\n",
       "      <td>6307</td>\n",
       "    </tr>\n",
       "    <tr>\n",
       "      <th>18</th>\n",
       "      <td>QCL</td>\n",
       "      <td>Crops and livestock products</td>\n",
       "      <td>174</td>\n",
       "      <td>Portugal</td>\n",
       "      <td>5419</td>\n",
       "      <td>Yield</td>\n",
       "      <td>260</td>\n",
       "      <td>Olives</td>\n",
       "      <td>2003</td>\n",
       "      <td>2003</td>\n",
       "      <td>100 g/ha</td>\n",
       "      <td>6966</td>\n",
       "    </tr>\n",
       "    <tr>\n",
       "      <th>19</th>\n",
       "      <td>QCL</td>\n",
       "      <td>Crops and livestock products</td>\n",
       "      <td>174</td>\n",
       "      <td>Portugal</td>\n",
       "      <td>5419</td>\n",
       "      <td>Yield</td>\n",
       "      <td>260</td>\n",
       "      <td>Olives</td>\n",
       "      <td>2004</td>\n",
       "      <td>2004</td>\n",
       "      <td>100 g/ha</td>\n",
       "      <td>8965</td>\n",
       "    </tr>\n",
       "    <tr>\n",
       "      <th>20</th>\n",
       "      <td>QCL</td>\n",
       "      <td>Crops and livestock products</td>\n",
       "      <td>174</td>\n",
       "      <td>Portugal</td>\n",
       "      <td>5419</td>\n",
       "      <td>Yield</td>\n",
       "      <td>260</td>\n",
       "      <td>Olives</td>\n",
       "      <td>2005</td>\n",
       "      <td>2005</td>\n",
       "      <td>100 g/ha</td>\n",
       "      <td>6058</td>\n",
       "    </tr>\n",
       "    <tr>\n",
       "      <th>21</th>\n",
       "      <td>QCL</td>\n",
       "      <td>Crops and livestock products</td>\n",
       "      <td>174</td>\n",
       "      <td>Portugal</td>\n",
       "      <td>5419</td>\n",
       "      <td>Yield</td>\n",
       "      <td>260</td>\n",
       "      <td>Olives</td>\n",
       "      <td>2006</td>\n",
       "      <td>2006</td>\n",
       "      <td>100 g/ha</td>\n",
       "      <td>10693</td>\n",
       "    </tr>\n",
       "    <tr>\n",
       "      <th>22</th>\n",
       "      <td>QCL</td>\n",
       "      <td>Crops and livestock products</td>\n",
       "      <td>174</td>\n",
       "      <td>Portugal</td>\n",
       "      <td>5419</td>\n",
       "      <td>Yield</td>\n",
       "      <td>260</td>\n",
       "      <td>Olives</td>\n",
       "      <td>2007</td>\n",
       "      <td>2007</td>\n",
       "      <td>100 g/ha</td>\n",
       "      <td>6081</td>\n",
       "    </tr>\n",
       "    <tr>\n",
       "      <th>23</th>\n",
       "      <td>QCL</td>\n",
       "      <td>Crops and livestock products</td>\n",
       "      <td>174</td>\n",
       "      <td>Portugal</td>\n",
       "      <td>5419</td>\n",
       "      <td>Yield</td>\n",
       "      <td>260</td>\n",
       "      <td>Olives</td>\n",
       "      <td>2008</td>\n",
       "      <td>2008</td>\n",
       "      <td>100 g/ha</td>\n",
       "      <td>9909</td>\n",
       "    </tr>\n",
       "    <tr>\n",
       "      <th>24</th>\n",
       "      <td>QCL</td>\n",
       "      <td>Crops and livestock products</td>\n",
       "      <td>174</td>\n",
       "      <td>Portugal</td>\n",
       "      <td>5419</td>\n",
       "      <td>Yield</td>\n",
       "      <td>260</td>\n",
       "      <td>Olives</td>\n",
       "      <td>2009</td>\n",
       "      <td>2009</td>\n",
       "      <td>100 g/ha</td>\n",
       "      <td>12289</td>\n",
       "    </tr>\n",
       "    <tr>\n",
       "      <th>25</th>\n",
       "      <td>QCL</td>\n",
       "      <td>Crops and livestock products</td>\n",
       "      <td>174</td>\n",
       "      <td>Portugal</td>\n",
       "      <td>5419</td>\n",
       "      <td>Yield</td>\n",
       "      <td>260</td>\n",
       "      <td>Olives</td>\n",
       "      <td>2010</td>\n",
       "      <td>2010</td>\n",
       "      <td>100 g/ha</td>\n",
       "      <td>12974</td>\n",
       "    </tr>\n",
       "    <tr>\n",
       "      <th>26</th>\n",
       "      <td>QCL</td>\n",
       "      <td>Crops and livestock products</td>\n",
       "      <td>174</td>\n",
       "      <td>Portugal</td>\n",
       "      <td>5419</td>\n",
       "      <td>Yield</td>\n",
       "      <td>260</td>\n",
       "      <td>Olives</td>\n",
       "      <td>2011</td>\n",
       "      <td>2011</td>\n",
       "      <td>100 g/ha</td>\n",
       "      <td>15036</td>\n",
       "    </tr>\n",
       "    <tr>\n",
       "      <th>27</th>\n",
       "      <td>QCL</td>\n",
       "      <td>Crops and livestock products</td>\n",
       "      <td>174</td>\n",
       "      <td>Portugal</td>\n",
       "      <td>5419</td>\n",
       "      <td>Yield</td>\n",
       "      <td>260</td>\n",
       "      <td>Olives</td>\n",
       "      <td>2012</td>\n",
       "      <td>2012</td>\n",
       "      <td>100 g/ha</td>\n",
       "      <td>12379</td>\n",
       "    </tr>\n",
       "    <tr>\n",
       "      <th>28</th>\n",
       "      <td>QCL</td>\n",
       "      <td>Crops and livestock products</td>\n",
       "      <td>174</td>\n",
       "      <td>Portugal</td>\n",
       "      <td>5419</td>\n",
       "      <td>Yield</td>\n",
       "      <td>260</td>\n",
       "      <td>Olives</td>\n",
       "      <td>2013</td>\n",
       "      <td>2013</td>\n",
       "      <td>100 g/ha</td>\n",
       "      <td>18527</td>\n",
       "    </tr>\n",
       "    <tr>\n",
       "      <th>29</th>\n",
       "      <td>QCL</td>\n",
       "      <td>Crops and livestock products</td>\n",
       "      <td>174</td>\n",
       "      <td>Portugal</td>\n",
       "      <td>5419</td>\n",
       "      <td>Yield</td>\n",
       "      <td>260</td>\n",
       "      <td>Olives</td>\n",
       "      <td>2014</td>\n",
       "      <td>2014</td>\n",
       "      <td>100 g/ha</td>\n",
       "      <td>12924</td>\n",
       "    </tr>\n",
       "    <tr>\n",
       "      <th>30</th>\n",
       "      <td>QCL</td>\n",
       "      <td>Crops and livestock products</td>\n",
       "      <td>174</td>\n",
       "      <td>Portugal</td>\n",
       "      <td>5419</td>\n",
       "      <td>Yield</td>\n",
       "      <td>260</td>\n",
       "      <td>Olives</td>\n",
       "      <td>2015</td>\n",
       "      <td>2015</td>\n",
       "      <td>100 g/ha</td>\n",
       "      <td>20575</td>\n",
       "    </tr>\n",
       "    <tr>\n",
       "      <th>31</th>\n",
       "      <td>QCL</td>\n",
       "      <td>Crops and livestock products</td>\n",
       "      <td>174</td>\n",
       "      <td>Portugal</td>\n",
       "      <td>5419</td>\n",
       "      <td>Yield</td>\n",
       "      <td>260</td>\n",
       "      <td>Olives</td>\n",
       "      <td>2016</td>\n",
       "      <td>2016</td>\n",
       "      <td>100 g/ha</td>\n",
       "      <td>13364</td>\n",
       "    </tr>\n",
       "    <tr>\n",
       "      <th>32</th>\n",
       "      <td>QCL</td>\n",
       "      <td>Crops and livestock products</td>\n",
       "      <td>174</td>\n",
       "      <td>Portugal</td>\n",
       "      <td>5419</td>\n",
       "      <td>Yield</td>\n",
       "      <td>260</td>\n",
       "      <td>Olives</td>\n",
       "      <td>2017</td>\n",
       "      <td>2017</td>\n",
       "      <td>100 g/ha</td>\n",
       "      <td>24456</td>\n",
       "    </tr>\n",
       "    <tr>\n",
       "      <th>33</th>\n",
       "      <td>QCL</td>\n",
       "      <td>Crops and livestock products</td>\n",
       "      <td>174</td>\n",
       "      <td>Portugal</td>\n",
       "      <td>5419</td>\n",
       "      <td>Yield</td>\n",
       "      <td>260</td>\n",
       "      <td>Olives</td>\n",
       "      <td>2018</td>\n",
       "      <td>2018</td>\n",
       "      <td>100 g/ha</td>\n",
       "      <td>20448</td>\n",
       "    </tr>\n",
       "    <tr>\n",
       "      <th>34</th>\n",
       "      <td>QCL</td>\n",
       "      <td>Crops and livestock products</td>\n",
       "      <td>174</td>\n",
       "      <td>Portugal</td>\n",
       "      <td>5419</td>\n",
       "      <td>Yield</td>\n",
       "      <td>260</td>\n",
       "      <td>Olives</td>\n",
       "      <td>2019</td>\n",
       "      <td>2019</td>\n",
       "      <td>100 g/ha</td>\n",
       "      <td>24818</td>\n",
       "    </tr>\n",
       "    <tr>\n",
       "      <th>35</th>\n",
       "      <td>QCL</td>\n",
       "      <td>Crops and livestock products</td>\n",
       "      <td>174</td>\n",
       "      <td>Portugal</td>\n",
       "      <td>5419</td>\n",
       "      <td>Yield</td>\n",
       "      <td>260</td>\n",
       "      <td>Olives</td>\n",
       "      <td>2020</td>\n",
       "      <td>2020</td>\n",
       "      <td>100 g/ha</td>\n",
       "      <td>19308</td>\n",
       "    </tr>\n",
       "    <tr>\n",
       "      <th>36</th>\n",
       "      <td>QCL</td>\n",
       "      <td>Crops and livestock products</td>\n",
       "      <td>174</td>\n",
       "      <td>Portugal</td>\n",
       "      <td>5419</td>\n",
       "      <td>Yield</td>\n",
       "      <td>260</td>\n",
       "      <td>Olives</td>\n",
       "      <td>2021</td>\n",
       "      <td>2021</td>\n",
       "      <td>100 g/ha</td>\n",
       "      <td>36165</td>\n",
       "    </tr>\n",
       "  </tbody>\n",
       "</table>\n",
       "</div>"
      ],
      "text/plain": [
       "   Domain Code                        Domain Area Code (FAO)      Area  \\\n",
       "0          QCL  Crops and livestock products             174  Portugal   \n",
       "1          QCL  Crops and livestock products             174  Portugal   \n",
       "2          QCL  Crops and livestock products             174  Portugal   \n",
       "3          QCL  Crops and livestock products             174  Portugal   \n",
       "4          QCL  Crops and livestock products             174  Portugal   \n",
       "5          QCL  Crops and livestock products             174  Portugal   \n",
       "6          QCL  Crops and livestock products             174  Portugal   \n",
       "7          QCL  Crops and livestock products             174  Portugal   \n",
       "8          QCL  Crops and livestock products             174  Portugal   \n",
       "9          QCL  Crops and livestock products             174  Portugal   \n",
       "10         QCL  Crops and livestock products             174  Portugal   \n",
       "11         QCL  Crops and livestock products             174  Portugal   \n",
       "12         QCL  Crops and livestock products             174  Portugal   \n",
       "13         QCL  Crops and livestock products             174  Portugal   \n",
       "14         QCL  Crops and livestock products             174  Portugal   \n",
       "15         QCL  Crops and livestock products             174  Portugal   \n",
       "16         QCL  Crops and livestock products             174  Portugal   \n",
       "17         QCL  Crops and livestock products             174  Portugal   \n",
       "18         QCL  Crops and livestock products             174  Portugal   \n",
       "19         QCL  Crops and livestock products             174  Portugal   \n",
       "20         QCL  Crops and livestock products             174  Portugal   \n",
       "21         QCL  Crops and livestock products             174  Portugal   \n",
       "22         QCL  Crops and livestock products             174  Portugal   \n",
       "23         QCL  Crops and livestock products             174  Portugal   \n",
       "24         QCL  Crops and livestock products             174  Portugal   \n",
       "25         QCL  Crops and livestock products             174  Portugal   \n",
       "26         QCL  Crops and livestock products             174  Portugal   \n",
       "27         QCL  Crops and livestock products             174  Portugal   \n",
       "28         QCL  Crops and livestock products             174  Portugal   \n",
       "29         QCL  Crops and livestock products             174  Portugal   \n",
       "30         QCL  Crops and livestock products             174  Portugal   \n",
       "31         QCL  Crops and livestock products             174  Portugal   \n",
       "32         QCL  Crops and livestock products             174  Portugal   \n",
       "33         QCL  Crops and livestock products             174  Portugal   \n",
       "34         QCL  Crops and livestock products             174  Portugal   \n",
       "35         QCL  Crops and livestock products             174  Portugal   \n",
       "36         QCL  Crops and livestock products             174  Portugal   \n",
       "\n",
       "   Element Code Element Item Code    Item Year Code  Year      Unit  Value  \n",
       "0          5419   Yield       260  Olives      1985  1985  100 g/ha   6860  \n",
       "1          5419   Yield       260  Olives      1986  1986  100 g/ha  10482  \n",
       "2          5419   Yield       260  Olives      1987  1987  100 g/ha   8553  \n",
       "3          5419   Yield       260  Olives      1988  1988  100 g/ha   3812  \n",
       "4          5419   Yield       260  Olives      1989  1989  100 g/ha   9715  \n",
       "5          5419   Yield       260  Olives      1990  1990  100 g/ha   5863  \n",
       "6          5419   Yield       260  Olives      1991  1991  100 g/ha  13292  \n",
       "7          5419   Yield       260  Olives      1992  1992  100 g/ha   4636  \n",
       "8          5419   Yield       260  Olives      1993  1993  100 g/ha   7296  \n",
       "9          5419   Yield       260  Olives      1994  1994  100 g/ha   6816  \n",
       "10         5419   Yield       260  Olives      1995  1995  100 g/ha   9598  \n",
       "11         5419   Yield       260  Olives      1996  1996  100 g/ha   8440  \n",
       "12         5419   Yield       260  Olives      1997  1997  100 g/ha   9437  \n",
       "13         5419   Yield       260  Olives      1998  1998  100 g/ha   6744  \n",
       "14         5419   Yield       260  Olives      1999  1999  100 g/ha   9012  \n",
       "15         5419   Yield       260  Olives      2000  2000  100 g/ha   4748  \n",
       "16         5419   Yield       260  Olives      2001  2001  100 g/ha   6423  \n",
       "17         5419   Yield       260  Olives      2002  2002  100 g/ha   6307  \n",
       "18         5419   Yield       260  Olives      2003  2003  100 g/ha   6966  \n",
       "19         5419   Yield       260  Olives      2004  2004  100 g/ha   8965  \n",
       "20         5419   Yield       260  Olives      2005  2005  100 g/ha   6058  \n",
       "21         5419   Yield       260  Olives      2006  2006  100 g/ha  10693  \n",
       "22         5419   Yield       260  Olives      2007  2007  100 g/ha   6081  \n",
       "23         5419   Yield       260  Olives      2008  2008  100 g/ha   9909  \n",
       "24         5419   Yield       260  Olives      2009  2009  100 g/ha  12289  \n",
       "25         5419   Yield       260  Olives      2010  2010  100 g/ha  12974  \n",
       "26         5419   Yield       260  Olives      2011  2011  100 g/ha  15036  \n",
       "27         5419   Yield       260  Olives      2012  2012  100 g/ha  12379  \n",
       "28         5419   Yield       260  Olives      2013  2013  100 g/ha  18527  \n",
       "29         5419   Yield       260  Olives      2014  2014  100 g/ha  12924  \n",
       "30         5419   Yield       260  Olives      2015  2015  100 g/ha  20575  \n",
       "31         5419   Yield       260  Olives      2016  2016  100 g/ha  13364  \n",
       "32         5419   Yield       260  Olives      2017  2017  100 g/ha  24456  \n",
       "33         5419   Yield       260  Olives      2018  2018  100 g/ha  20448  \n",
       "34         5419   Yield       260  Olives      2019  2019  100 g/ha  24818  \n",
       "35         5419   Yield       260  Olives      2020  2020  100 g/ha  19308  \n",
       "36         5419   Yield       260  Olives      2021  2021  100 g/ha  36165  "
      ]
     },
     "execution_count": 9,
     "metadata": {},
     "output_type": "execute_result"
    }
   ],
   "source": [
    "faostat.get_data_df('QCL', pars={'elements':elements_QCL['Yield'],'items':items_QCL['Olives'],'areas':areas_QCL['Portugal']})"
   ]
  },
  {
   "cell_type": "markdown",
   "id": "dbe74d52",
   "metadata": {},
   "source": [
    "The default value for null values for null_Values is False, therefore the provided dataset will only contain data from years for which there is registered info. For concatenation/standardization of data we might want to include the \"null\" years in some datasets, for which case the func parameter can be set as such:"
   ]
  },
  {
   "cell_type": "markdown",
   "id": "62fd26d1",
   "metadata": {},
   "source": [
    "All data in FAOSTAT starts in 1961."
   ]
  },
  {
   "cell_type": "markdown",
   "id": "9b16d2cf",
   "metadata": {},
   "source": [
    "### Creating our first functions"
   ]
  },
  {
   "cell_type": "markdown",
   "id": "949ff6c9",
   "metadata": {},
   "source": [
    "The first strategy is creating functions for specific elements of QCL (e.g. yield, area harvested), instead of providing these as inputs"
   ]
  },
  {
   "cell_type": "code",
   "execution_count": 33,
   "id": "b80f4f69",
   "metadata": {},
   "outputs": [],
   "source": [
    "def fetch_yield_data(crop, country=None, null_values=False, clean=True):\n",
    "    '''\n",
    "    This function returns a pandas df containing yield data for the crop and country (optional) provided as input\n",
    "    If country is not specified, all countries and regions in the FAOSTAT db will be returned\n",
    "    If null_values is not set to true, it will only return entries for years in which there are registered values (it may vary from country to country)\n",
    "    If clean is not set to false, the function will only return the info considered to be relevant for further analytics and ML applications\n",
    "    '''\n",
    "\n",
    "    #Firstly, we fetch the encoding lists\n",
    "    countries = faostat.get_areas('QCL')\n",
    "    elements = faostat.get_elements('QCL')\n",
    "    items = faostat.get_items('QCL')\n",
    "\n",
    "    if crop not in items.keys():\n",
    "        return \"We don't have data on the selected crop\"\n",
    "        \n",
    "    if country is None:\n",
    "        df = faostat.get_data_df('QCL', pars={'elements':elements['Yield'],'items':items[crop]}, null_values=null_values)\n",
    "    else:\n",
    "        if country not in countries.keys():\n",
    "            return \"Please enter a valid country\"\n",
    "        else:\n",
    "            df = faostat.get_data_df('QCL', pars={'elements':elements['Yield'],'items':items[crop],'areas':countries[country]}, null_values=null_values)\n",
    "    \n",
    "    if clean:\n",
    "        df.drop(columns = [\"Domain\",\"Domain Code\",\"Area Code (FAO)\",\"Element Code\",\"Item Code\",\"Year Code\"], inplace = True)\n",
    "        df['Value'] = pd.to_numeric(df.Value)\n",
    "        df['Year'] = pd.to_numeric(df.Year)\n",
    "        \n",
    "    return df"
   ]
  },
  {
   "cell_type": "markdown",
   "id": "b45ed78a",
   "metadata": {},
   "source": [
    "Lets try out our function by calling the wheat data for Portugal:"
   ]
  },
  {
   "cell_type": "code",
   "execution_count": 34,
   "id": "29ac127b",
   "metadata": {},
   "outputs": [],
   "source": [
    "wheat_df_portugal = fetch_yield_data(\"Wheat\",country='Portugal')"
   ]
  },
  {
   "cell_type": "code",
   "execution_count": 35,
   "id": "2c1ff845",
   "metadata": {},
   "outputs": [
    {
     "data": {
      "text/html": [
       "<div>\n",
       "<style scoped>\n",
       "    .dataframe tbody tr th:only-of-type {\n",
       "        vertical-align: middle;\n",
       "    }\n",
       "\n",
       "    .dataframe tbody tr th {\n",
       "        vertical-align: top;\n",
       "    }\n",
       "\n",
       "    .dataframe thead th {\n",
       "        text-align: right;\n",
       "    }\n",
       "</style>\n",
       "<table border=\"1\" class=\"dataframe\">\n",
       "  <thead>\n",
       "    <tr style=\"text-align: right;\">\n",
       "      <th></th>\n",
       "      <th>Area</th>\n",
       "      <th>Element</th>\n",
       "      <th>Item</th>\n",
       "      <th>Year</th>\n",
       "      <th>Unit</th>\n",
       "      <th>Value</th>\n",
       "    </tr>\n",
       "  </thead>\n",
       "  <tbody>\n",
       "    <tr>\n",
       "      <th>0</th>\n",
       "      <td>Portugal</td>\n",
       "      <td>Yield</td>\n",
       "      <td>Wheat</td>\n",
       "      <td>1961</td>\n",
       "      <td>100 g/ha</td>\n",
       "      <td>6515</td>\n",
       "    </tr>\n",
       "    <tr>\n",
       "      <th>1</th>\n",
       "      <td>Portugal</td>\n",
       "      <td>Yield</td>\n",
       "      <td>Wheat</td>\n",
       "      <td>1962</td>\n",
       "      <td>100 g/ha</td>\n",
       "      <td>8857</td>\n",
       "    </tr>\n",
       "    <tr>\n",
       "      <th>2</th>\n",
       "      <td>Portugal</td>\n",
       "      <td>Yield</td>\n",
       "      <td>Wheat</td>\n",
       "      <td>1963</td>\n",
       "      <td>100 g/ha</td>\n",
       "      <td>8002</td>\n",
       "    </tr>\n",
       "    <tr>\n",
       "      <th>3</th>\n",
       "      <td>Portugal</td>\n",
       "      <td>Yield</td>\n",
       "      <td>Wheat</td>\n",
       "      <td>1964</td>\n",
       "      <td>100 g/ha</td>\n",
       "      <td>6887</td>\n",
       "    </tr>\n",
       "    <tr>\n",
       "      <th>4</th>\n",
       "      <td>Portugal</td>\n",
       "      <td>Yield</td>\n",
       "      <td>Wheat</td>\n",
       "      <td>1965</td>\n",
       "      <td>100 g/ha</td>\n",
       "      <td>9750</td>\n",
       "    </tr>\n",
       "  </tbody>\n",
       "</table>\n",
       "</div>"
      ],
      "text/plain": [
       "       Area Element   Item  Year      Unit  Value\n",
       "0  Portugal   Yield  Wheat  1961  100 g/ha   6515\n",
       "1  Portugal   Yield  Wheat  1962  100 g/ha   8857\n",
       "2  Portugal   Yield  Wheat  1963  100 g/ha   8002\n",
       "3  Portugal   Yield  Wheat  1964  100 g/ha   6887\n",
       "4  Portugal   Yield  Wheat  1965  100 g/ha   9750"
      ]
     },
     "execution_count": 35,
     "metadata": {},
     "output_type": "execute_result"
    }
   ],
   "source": [
    "wheat_df_portugal.head()"
   ]
  },
  {
   "cell_type": "markdown",
   "id": "a132e95b",
   "metadata": {},
   "source": [
    "And now a full yield df for wheat, also checking its properties and data"
   ]
  },
  {
   "cell_type": "markdown",
   "id": "35b49b15",
   "metadata": {},
   "source": [
    "### First study of a dataset retrieved from .faostat"
   ]
  },
  {
   "cell_type": "code",
   "execution_count": 36,
   "id": "46a8c9d6",
   "metadata": {},
   "outputs": [],
   "source": [
    "wheat_df = fetch_yield_data(\"Wheat\")"
   ]
  },
  {
   "cell_type": "code",
   "execution_count": 37,
   "id": "7bcce0c1",
   "metadata": {},
   "outputs": [
    {
     "data": {
      "text/html": [
       "<div>\n",
       "<style scoped>\n",
       "    .dataframe tbody tr th:only-of-type {\n",
       "        vertical-align: middle;\n",
       "    }\n",
       "\n",
       "    .dataframe tbody tr th {\n",
       "        vertical-align: top;\n",
       "    }\n",
       "\n",
       "    .dataframe thead th {\n",
       "        text-align: right;\n",
       "    }\n",
       "</style>\n",
       "<table border=\"1\" class=\"dataframe\">\n",
       "  <thead>\n",
       "    <tr style=\"text-align: right;\">\n",
       "      <th></th>\n",
       "      <th>Area</th>\n",
       "      <th>Element</th>\n",
       "      <th>Item</th>\n",
       "      <th>Year</th>\n",
       "      <th>Unit</th>\n",
       "      <th>Value</th>\n",
       "    </tr>\n",
       "  </thead>\n",
       "  <tbody>\n",
       "    <tr>\n",
       "      <th>0</th>\n",
       "      <td>Afghanistan</td>\n",
       "      <td>Yield</td>\n",
       "      <td>Wheat</td>\n",
       "      <td>1961</td>\n",
       "      <td>100 g/ha</td>\n",
       "      <td>10220</td>\n",
       "    </tr>\n",
       "    <tr>\n",
       "      <th>1</th>\n",
       "      <td>Afghanistan</td>\n",
       "      <td>Yield</td>\n",
       "      <td>Wheat</td>\n",
       "      <td>1962</td>\n",
       "      <td>100 g/ha</td>\n",
       "      <td>9735</td>\n",
       "    </tr>\n",
       "    <tr>\n",
       "      <th>2</th>\n",
       "      <td>Afghanistan</td>\n",
       "      <td>Yield</td>\n",
       "      <td>Wheat</td>\n",
       "      <td>1963</td>\n",
       "      <td>100 g/ha</td>\n",
       "      <td>8317</td>\n",
       "    </tr>\n",
       "    <tr>\n",
       "      <th>3</th>\n",
       "      <td>Afghanistan</td>\n",
       "      <td>Yield</td>\n",
       "      <td>Wheat</td>\n",
       "      <td>1964</td>\n",
       "      <td>100 g/ha</td>\n",
       "      <td>9510</td>\n",
       "    </tr>\n",
       "    <tr>\n",
       "      <th>4</th>\n",
       "      <td>Afghanistan</td>\n",
       "      <td>Yield</td>\n",
       "      <td>Wheat</td>\n",
       "      <td>1965</td>\n",
       "      <td>100 g/ha</td>\n",
       "      <td>9723</td>\n",
       "    </tr>\n",
       "  </tbody>\n",
       "</table>\n",
       "</div>"
      ],
      "text/plain": [
       "          Area Element   Item  Year      Unit  Value\n",
       "0  Afghanistan   Yield  Wheat  1961  100 g/ha  10220\n",
       "1  Afghanistan   Yield  Wheat  1962  100 g/ha   9735\n",
       "2  Afghanistan   Yield  Wheat  1963  100 g/ha   8317\n",
       "3  Afghanistan   Yield  Wheat  1964  100 g/ha   9510\n",
       "4  Afghanistan   Yield  Wheat  1965  100 g/ha   9723"
      ]
     },
     "execution_count": 37,
     "metadata": {},
     "output_type": "execute_result"
    }
   ],
   "source": [
    "wheat_df.head()"
   ]
  },
  {
   "cell_type": "code",
   "execution_count": 38,
   "id": "f026da5e",
   "metadata": {},
   "outputs": [
    {
     "name": "stdout",
     "output_type": "stream",
     "text": [
      "<class 'pandas.core.frame.DataFrame'>\n",
      "RangeIndex: 8579 entries, 0 to 8578\n",
      "Data columns (total 6 columns):\n",
      " #   Column   Non-Null Count  Dtype \n",
      "---  ------   --------------  ----- \n",
      " 0   Area     8579 non-null   object\n",
      " 1   Element  8579 non-null   object\n",
      " 2   Item     8579 non-null   object\n",
      " 3   Year     8579 non-null   int64 \n",
      " 4   Unit     8579 non-null   object\n",
      " 5   Value    8579 non-null   int64 \n",
      "dtypes: int64(2), object(4)\n",
      "memory usage: 402.3+ KB\n"
     ]
    }
   ],
   "source": [
    "wheat_df.info()"
   ]
  },
  {
   "cell_type": "markdown",
   "id": "7869f7c2",
   "metadata": {},
   "source": [
    "NOTE: It seems like data comes as object types for every column. We want to change Years into ints (int64) and Value into floats (float64). This should be adjusted in the function"
   ]
  },
  {
   "cell_type": "code",
   "execution_count": 39,
   "id": "9c1a896a",
   "metadata": {},
   "outputs": [],
   "source": [
    "wheat_df['Value'] = pd.to_numeric(wheat_df.Value)"
   ]
  },
  {
   "cell_type": "code",
   "execution_count": 40,
   "id": "29764580",
   "metadata": {},
   "outputs": [
    {
     "name": "stdout",
     "output_type": "stream",
     "text": [
      "<class 'pandas.core.frame.DataFrame'>\n",
      "RangeIndex: 8579 entries, 0 to 8578\n",
      "Data columns (total 6 columns):\n",
      " #   Column   Non-Null Count  Dtype \n",
      "---  ------   --------------  ----- \n",
      " 0   Area     8579 non-null   object\n",
      " 1   Element  8579 non-null   object\n",
      " 2   Item     8579 non-null   object\n",
      " 3   Year     8579 non-null   int64 \n",
      " 4   Unit     8579 non-null   object\n",
      " 5   Value    8579 non-null   int64 \n",
      "dtypes: int64(2), object(4)\n",
      "memory usage: 402.3+ KB\n"
     ]
    }
   ],
   "source": [
    "wheat_df.info()"
   ]
  },
  {
   "cell_type": "code",
   "execution_count": 41,
   "id": "79ea49cb",
   "metadata": {},
   "outputs": [],
   "source": [
    "wheat_df['Year'] = pd.to_numeric(wheat_df.Year)"
   ]
  },
  {
   "cell_type": "code",
   "execution_count": 42,
   "id": "f5ca8cd6",
   "metadata": {},
   "outputs": [
    {
     "name": "stdout",
     "output_type": "stream",
     "text": [
      "<class 'pandas.core.frame.DataFrame'>\n",
      "RangeIndex: 8579 entries, 0 to 8578\n",
      "Data columns (total 6 columns):\n",
      " #   Column   Non-Null Count  Dtype \n",
      "---  ------   --------------  ----- \n",
      " 0   Area     8579 non-null   object\n",
      " 1   Element  8579 non-null   object\n",
      " 2   Item     8579 non-null   object\n",
      " 3   Year     8579 non-null   int64 \n",
      " 4   Unit     8579 non-null   object\n",
      " 5   Value    8579 non-null   int64 \n",
      "dtypes: int64(2), object(4)\n",
      "memory usage: 402.3+ KB\n"
     ]
    }
   ],
   "source": [
    "wheat_df.info()"
   ]
  },
  {
   "cell_type": "code",
   "execution_count": 43,
   "id": "5d7f56c9",
   "metadata": {},
   "outputs": [
    {
     "data": {
      "text/plain": [
       "Area\n",
       "Afghanistan              61\n",
       "Saudi Arabia             61\n",
       "Peru                     61\n",
       "Poland                   61\n",
       "Portugal                 61\n",
       "                         ..\n",
       "Luxembourg               22\n",
       "Montenegro               16\n",
       "Serbia                   16\n",
       "Serbia and Montenegro    14\n",
       "Sudan                    10\n",
       "Name: count, Length: 164, dtype: int64"
      ]
     },
     "execution_count": 43,
     "metadata": {},
     "output_type": "execute_result"
    }
   ],
   "source": [
    "wheat_df.Area.value_counts()"
   ]
  },
  {
   "cell_type": "code",
   "execution_count": 44,
   "id": "f78c33d2",
   "metadata": {},
   "outputs": [
    {
     "data": {
      "text/plain": [
       "array(['Afghanistan', 'Albania', 'Algeria', 'Angola', 'Argentina',\n",
       "       'Armenia', 'Australia', 'Austria', 'Azerbaijan', 'Bangladesh',\n",
       "       'Belarus', 'Belgium', 'Belgium-Luxembourg', 'Bhutan',\n",
       "       'Bolivia (Plurinational State of)', 'Bosnia and Herzegovina',\n",
       "       'Botswana', 'Brazil', 'Bulgaria', 'Burundi', 'Cameroon', 'Canada',\n",
       "       'Chad', 'Chile', 'China', 'China, mainland',\n",
       "       'China, Taiwan Province of', 'Colombia', 'Croatia', 'Cyprus',\n",
       "       'Czechia', 'Czechoslovakia',\n",
       "       \"Democratic People's Republic of Korea\",\n",
       "       'Democratic Republic of the Congo', 'Denmark', 'Ecuador', 'Egypt',\n",
       "       'Eritrea', 'Estonia', 'Eswatini', 'Ethiopia', 'Ethiopia PDR',\n",
       "       'Finland', 'France', 'Georgia', 'Germany', 'Greece', 'Guatemala',\n",
       "       'Honduras', 'Hungary', 'India', 'Iran (Islamic Republic of)',\n",
       "       'Iraq', 'Ireland', 'Israel', 'Italy', 'Japan', 'Jordan',\n",
       "       'Kazakhstan', 'Kenya', 'Kuwait', 'Kyrgyzstan', 'Latvia', 'Lebanon',\n",
       "       'Lesotho', 'Libya', 'Lithuania', 'Luxembourg', 'Madagascar',\n",
       "       'Malawi', 'Mali', 'Malta', 'Mauritania', 'Mexico', 'Mongolia',\n",
       "       'Montenegro', 'Morocco', 'Mozambique', 'Myanmar', 'Namibia',\n",
       "       'Nepal', 'Netherlands (Kingdom of the)', 'New Caledonia',\n",
       "       'New Zealand', 'Niger', 'Nigeria', 'North Macedonia', 'Norway',\n",
       "       'Oman', 'Pakistan', 'Palestine', 'Paraguay', 'Peru', 'Poland',\n",
       "       'Portugal', 'Qatar', 'Republic of Korea', 'Republic of Moldova',\n",
       "       'Romania', 'Russian Federation', 'Rwanda', 'Saudi Arabia',\n",
       "       'Serbia', 'Serbia and Montenegro', 'Slovakia', 'Slovenia',\n",
       "       'Somalia', 'South Africa', 'Spain', 'Sudan', 'Sudan (former)',\n",
       "       'Sweden', 'Switzerland', 'Syrian Arab Republic', 'Tajikistan',\n",
       "       'Thailand', 'Tunisia', 'Türkiye', 'Turkmenistan', 'Uganda',\n",
       "       'Ukraine', 'United Arab Emirates',\n",
       "       'United Kingdom of Great Britain and Northern Ireland',\n",
       "       'United Republic of Tanzania', 'United States of America',\n",
       "       'Uruguay', 'USSR', 'Uzbekistan',\n",
       "       'Venezuela (Bolivarian Republic of)', 'Yemen', 'Yugoslav SFR',\n",
       "       'Zambia', 'Zimbabwe', 'World', 'Africa', 'Eastern Africa',\n",
       "       'Middle Africa', 'Northern Africa', 'Southern Africa',\n",
       "       'Western Africa', 'Americas', 'Northern America',\n",
       "       'Central America', 'South America', 'Asia', 'Central Asia',\n",
       "       'Eastern Asia', 'Southern Asia', 'South-eastern Asia',\n",
       "       'Western Asia', 'Europe', 'Eastern Europe', 'Northern Europe',\n",
       "       'Southern Europe', 'Western Europe', 'Oceania',\n",
       "       'Australia and New Zealand', 'Melanesia', 'European Union (27)',\n",
       "       'Least Developed Countries', 'Land Locked Developing Countries',\n",
       "       'Small Island Developing States',\n",
       "       'Low Income Food Deficit Countries',\n",
       "       'Net Food Importing Developing Countries'], dtype=object)"
      ]
     },
     "execution_count": 44,
     "metadata": {},
     "output_type": "execute_result"
    }
   ],
   "source": [
    "wheat_df.Area.unique()"
   ]
  },
  {
   "cell_type": "markdown",
   "id": "1b167712",
   "metadata": {},
   "source": [
    "Some of these regions might be interesting from an analysis prespective. It could even be compared to the time series clusters analysis. Consider:"
   ]
  },
  {
   "cell_type": "markdown",
   "id": "efcab534",
   "metadata": {},
   "source": [
    "- European Union\n",
    "- Least Developed Countries\n",
    "- Land Locked Developing Countries\n",
    "- etc"
   ]
  },
  {
   "cell_type": "markdown",
   "id": "6154ba34",
   "metadata": {},
   "source": [
    "lets take a look at the 'Low Income Food Deficit Countries', for example:"
   ]
  },
  {
   "cell_type": "code",
   "execution_count": 45,
   "id": "9f98f733",
   "metadata": {},
   "outputs": [],
   "source": [
    "random_df = wheat_df[wheat_df.Area.isin(random.choices(list(wheat_df.Area.values), k = 3))]"
   ]
  },
  {
   "cell_type": "code",
   "execution_count": 46,
   "id": "3b665e1a",
   "metadata": {},
   "outputs": [
    {
     "name": "stdout",
     "output_type": "stream",
     "text": [
      "<class 'pandas.core.frame.DataFrame'>\n",
      "Index: 152 entries, 2554 to 7559\n",
      "Data columns (total 6 columns):\n",
      " #   Column   Non-Null Count  Dtype \n",
      "---  ------   --------------  ----- \n",
      " 0   Area     152 non-null    object\n",
      " 1   Element  152 non-null    object\n",
      " 2   Item     152 non-null    object\n",
      " 3   Year     152 non-null    int64 \n",
      " 4   Unit     152 non-null    object\n",
      " 5   Value    152 non-null    int64 \n",
      "dtypes: int64(2), object(4)\n",
      "memory usage: 8.3+ KB\n"
     ]
    }
   ],
   "source": [
    "random_df.info()"
   ]
  },
  {
   "cell_type": "code",
   "execution_count": 47,
   "id": "0f00ce40",
   "metadata": {},
   "outputs": [
    {
     "data": {
      "text/plain": [
       "<Axes: xlabel='Year', ylabel='Value'>"
      ]
     },
     "execution_count": 47,
     "metadata": {},
     "output_type": "execute_result"
    },
    {
     "data": {
      "image/png": "[encoded data removed]",
      "text/plain": [
       "<Figure size 1200x800 with 1 Axes>"
      ]
     },
     "metadata": {},
     "output_type": "display_data"
    }
   ],
   "source": [
    "plt.figure(figsize=(12,8))\n",
    "sns.lineplot(data = random_df, x='Year', y='Value', hue='Area')"
   ]
  },
  {
   "cell_type": "code",
   "execution_count": 48,
   "id": "c6df389b",
   "metadata": {},
   "outputs": [],
   "source": [
    "new_df = wheat_df[wheat_df.Area.isin(['European Union (27)',\n",
    "       'Least Developed Countries', 'Land Locked Developing Countries',\n",
    "       'Small Island Developing States',\n",
    "       'Low Income Food Deficit Countries'])]"
   ]
  },
  {
   "cell_type": "code",
   "execution_count": 49,
   "id": "d865ba25",
   "metadata": {},
   "outputs": [
    {
     "data": {
      "text/plain": [
       "<Axes: xlabel='Year', ylabel='Value'>"
      ]
     },
     "execution_count": 49,
     "metadata": {},
     "output_type": "execute_result"
    },
    {
     "data": {
      "image/png": "[encoded data removed]",
      "text/plain": [
       "<Figure size 1200x800 with 1 Axes>"
      ]
     },
     "metadata": {},
     "output_type": "display_data"
    }
   ],
   "source": [
    "plt.figure(figsize=(12,8))\n",
    "sns.lineplot(data = new_df, x='Year', y='Value', hue='Area')"
   ]
  },
  {
   "cell_type": "markdown",
   "id": "be9decf0",
   "metadata": {},
   "source": [
    "Ok, so it seems that the data is compelling. We know that there are no missing values in the retrieved dataset (given the function parameters). But let's check what happened with values for year/country combination where that value would be missing. Starting with wheat df we have already."
   ]
  },
  {
   "cell_type": "code",
   "execution_count": 53,
   "id": "c7e3ff02",
   "metadata": {},
   "outputs": [
    {
     "data": {
      "text/plain": [
       "Area       0\n",
       "Element    0\n",
       "Item       0\n",
       "Year       0\n",
       "Unit       0\n",
       "Value      0\n",
       "dtype: int64"
      ]
     },
     "execution_count": 53,
     "metadata": {},
     "output_type": "execute_result"
    }
   ],
   "source": [
    "wheat_df.isnull().sum()"
   ]
  },
  {
   "cell_type": "markdown",
   "id": "478693fd",
   "metadata": {},
   "source": [
    "The following subset of countries disregards the regions:"
   ]
  },
  {
   "cell_type": "code",
   "execution_count": 75,
   "id": "5f2aa41d",
   "metadata": {},
   "outputs": [
    {
     "data": {
      "text/plain": [
       "array(['Afghanistan', 'Albania', 'Algeria', 'Angola', 'Argentina',\n",
       "       'Armenia', 'Australia', 'Austria', 'Azerbaijan', 'Bangladesh',\n",
       "       'Belarus', 'Belgium', 'Belgium-Luxembourg', 'Bhutan',\n",
       "       'Bolivia (Plurinational State of)', 'Bosnia and Herzegovina',\n",
       "       'Botswana', 'Brazil', 'Bulgaria', 'Burundi', 'Cameroon', 'Canada',\n",
       "       'Chad', 'Chile', 'China', 'China, mainland',\n",
       "       'China, Taiwan Province of', 'Colombia', 'Croatia', 'Cyprus',\n",
       "       'Czechia', 'Czechoslovakia',\n",
       "       \"Democratic People's Republic of Korea\",\n",
       "       'Democratic Republic of the Congo', 'Denmark', 'Ecuador', 'Egypt',\n",
       "       'Eritrea', 'Estonia', 'Eswatini', 'Ethiopia', 'Ethiopia PDR',\n",
       "       'Finland', 'France', 'Georgia', 'Germany', 'Greece', 'Guatemala',\n",
       "       'Honduras', 'Hungary', 'India', 'Iran (Islamic Republic of)',\n",
       "       'Iraq', 'Ireland', 'Israel', 'Italy', 'Japan', 'Jordan',\n",
       "       'Kazakhstan', 'Kenya', 'Kuwait', 'Kyrgyzstan', 'Latvia', 'Lebanon',\n",
       "       'Lesotho', 'Libya', 'Lithuania', 'Luxembourg', 'Madagascar',\n",
       "       'Malawi', 'Mali', 'Malta', 'Mauritania', 'Mexico', 'Mongolia',\n",
       "       'Montenegro', 'Morocco', 'Mozambique', 'Myanmar', 'Namibia',\n",
       "       'Nepal', 'Netherlands (Kingdom of the)', 'New Caledonia',\n",
       "       'New Zealand', 'Niger', 'Nigeria', 'North Macedonia', 'Norway',\n",
       "       'Oman', 'Pakistan', 'Palestine', 'Paraguay', 'Peru', 'Poland',\n",
       "       'Portugal', 'Qatar', 'Republic of Korea', 'Republic of Moldova',\n",
       "       'Romania', 'Russian Federation', 'Rwanda', 'Saudi Arabia',\n",
       "       'Serbia', 'Serbia and Montenegro', 'Slovakia', 'Slovenia',\n",
       "       'Somalia', 'South Africa', 'Spain', 'Sudan', 'Sudan (former)',\n",
       "       'Sweden', 'Switzerland', 'Syrian Arab Republic', 'Tajikistan',\n",
       "       'Thailand', 'Tunisia', 'Türkiye', 'Turkmenistan', 'Uganda',\n",
       "       'Ukraine', 'United Arab Emirates',\n",
       "       'United Kingdom of Great Britain and Northern Ireland',\n",
       "       'United Republic of Tanzania', 'United States of America',\n",
       "       'Uruguay', 'USSR', 'Uzbekistan',\n",
       "       'Venezuela (Bolivarian Republic of)', 'Yemen', 'Yugoslav SFR',\n",
       "       'Zambia', 'Zimbabwe'], dtype=object)"
      ]
     },
     "execution_count": 75,
     "metadata": {},
     "output_type": "execute_result"
    }
   ],
   "source": [
    "countries = wheat_df.Area.unique()[:-31]\n",
    "countries"
   ]
  },
  {
   "cell_type": "code",
   "execution_count": 77,
   "id": "326698fb",
   "metadata": {},
   "outputs": [],
   "source": [
    "wheat_df_countries = wheat_df[wheat_df.Area.isin(countries)]"
   ]
  },
  {
   "cell_type": "markdown",
   "id": "14be9095",
   "metadata": {},
   "source": [
    "Lets remove countries with less than 90% of the data points (90% of 61 = 55)"
   ]
  },
  {
   "cell_type": "code",
   "execution_count": 93,
   "id": "36f2121c",
   "metadata": {},
   "outputs": [],
   "source": [
    "valid_countries = wheat_df_countries.groupby('Area').agg('count')['Value'] > 55"
   ]
  },
  {
   "cell_type": "code",
   "execution_count": 103,
   "id": "f928b817",
   "metadata": {},
   "outputs": [],
   "source": [
    "valid_countries = list(valid_countries[valid_countries].index.values)"
   ]
  },
  {
   "cell_type": "code",
   "execution_count": 104,
   "id": "7f6e29c1",
   "metadata": {},
   "outputs": [
    {
     "data": {
      "text/plain": [
       "['Afghanistan',\n",
       " 'Albania',\n",
       " 'Algeria',\n",
       " 'Angola',\n",
       " 'Argentina',\n",
       " 'Australia',\n",
       " 'Austria',\n",
       " 'Bangladesh',\n",
       " 'Bhutan',\n",
       " 'Bolivia (Plurinational State of)',\n",
       " 'Brazil',\n",
       " 'Bulgaria',\n",
       " 'Burundi',\n",
       " 'Canada',\n",
       " 'Chad',\n",
       " 'Chile',\n",
       " 'China, Taiwan Province of',\n",
       " 'China, mainland',\n",
       " 'Colombia',\n",
       " 'Cyprus',\n",
       " \"Democratic People's Republic of Korea\",\n",
       " 'Democratic Republic of the Congo',\n",
       " 'Denmark',\n",
       " 'Ecuador',\n",
       " 'Egypt',\n",
       " 'Finland',\n",
       " 'France',\n",
       " 'Germany',\n",
       " 'Greece',\n",
       " 'Guatemala',\n",
       " 'Honduras',\n",
       " 'Hungary',\n",
       " 'India',\n",
       " 'Iran (Islamic Republic of)',\n",
       " 'Iraq',\n",
       " 'Ireland',\n",
       " 'Israel',\n",
       " 'Italy',\n",
       " 'Japan',\n",
       " 'Jordan',\n",
       " 'Kenya',\n",
       " 'Lebanon',\n",
       " 'Lesotho',\n",
       " 'Libya',\n",
       " 'Malawi',\n",
       " 'Mali',\n",
       " 'Malta',\n",
       " 'Mauritania',\n",
       " 'Mexico',\n",
       " 'Mongolia',\n",
       " 'Morocco',\n",
       " 'Mozambique',\n",
       " 'Myanmar',\n",
       " 'Namibia',\n",
       " 'Nepal',\n",
       " 'Netherlands (Kingdom of the)',\n",
       " 'New Zealand',\n",
       " 'Niger',\n",
       " 'Nigeria',\n",
       " 'Norway',\n",
       " 'Oman',\n",
       " 'Pakistan',\n",
       " 'Paraguay',\n",
       " 'Peru',\n",
       " 'Poland',\n",
       " 'Portugal',\n",
       " 'Republic of Korea',\n",
       " 'Romania',\n",
       " 'Rwanda',\n",
       " 'Saudi Arabia',\n",
       " 'South Africa',\n",
       " 'Spain',\n",
       " 'Sweden',\n",
       " 'Switzerland',\n",
       " 'Syrian Arab Republic',\n",
       " 'Tunisia',\n",
       " 'Türkiye',\n",
       " 'Uganda',\n",
       " 'United Kingdom of Great Britain and Northern Ireland',\n",
       " 'United Republic of Tanzania',\n",
       " 'United States of America',\n",
       " 'Uruguay',\n",
       " 'Venezuela (Bolivarian Republic of)',\n",
       " 'Yemen',\n",
       " 'Zambia',\n",
       " 'Zimbabwe']"
      ]
     },
     "execution_count": 104,
     "metadata": {},
     "output_type": "execute_result"
    }
   ],
   "source": [
    "valid_countries"
   ]
  },
  {
   "cell_type": "markdown",
   "id": "8534f8ec",
   "metadata": {},
   "source": [
    "Although we've ruled out a lot of data, lets start with this data set:"
   ]
  },
  {
   "cell_type": "code",
   "execution_count": 107,
   "id": "500566c5",
   "metadata": {},
   "outputs": [],
   "source": [
    "wheat_df_filled = wheat_df[wheat_df.Area.isin(valid_countries)]"
   ]
  },
  {
   "cell_type": "code",
   "execution_count": 108,
   "id": "ab8a5d3d",
   "metadata": {},
   "outputs": [
    {
     "data": {
      "text/html": [
       "<div>\n",
       "<style scoped>\n",
       "    .dataframe tbody tr th:only-of-type {\n",
       "        vertical-align: middle;\n",
       "    }\n",
       "\n",
       "    .dataframe tbody tr th {\n",
       "        vertical-align: top;\n",
       "    }\n",
       "\n",
       "    .dataframe thead th {\n",
       "        text-align: right;\n",
       "    }\n",
       "</style>\n",
       "<table border=\"1\" class=\"dataframe\">\n",
       "  <thead>\n",
       "    <tr style=\"text-align: right;\">\n",
       "      <th></th>\n",
       "      <th>Area</th>\n",
       "      <th>Element</th>\n",
       "      <th>Item</th>\n",
       "      <th>Year</th>\n",
       "      <th>Unit</th>\n",
       "      <th>Value</th>\n",
       "    </tr>\n",
       "  </thead>\n",
       "  <tbody>\n",
       "    <tr>\n",
       "      <th>0</th>\n",
       "      <td>Afghanistan</td>\n",
       "      <td>Yield</td>\n",
       "      <td>Wheat</td>\n",
       "      <td>1961</td>\n",
       "      <td>100 g/ha</td>\n",
       "      <td>10220</td>\n",
       "    </tr>\n",
       "    <tr>\n",
       "      <th>1</th>\n",
       "      <td>Afghanistan</td>\n",
       "      <td>Yield</td>\n",
       "      <td>Wheat</td>\n",
       "      <td>1962</td>\n",
       "      <td>100 g/ha</td>\n",
       "      <td>9735</td>\n",
       "    </tr>\n",
       "    <tr>\n",
       "      <th>2</th>\n",
       "      <td>Afghanistan</td>\n",
       "      <td>Yield</td>\n",
       "      <td>Wheat</td>\n",
       "      <td>1963</td>\n",
       "      <td>100 g/ha</td>\n",
       "      <td>8317</td>\n",
       "    </tr>\n",
       "    <tr>\n",
       "      <th>3</th>\n",
       "      <td>Afghanistan</td>\n",
       "      <td>Yield</td>\n",
       "      <td>Wheat</td>\n",
       "      <td>1964</td>\n",
       "      <td>100 g/ha</td>\n",
       "      <td>9510</td>\n",
       "    </tr>\n",
       "    <tr>\n",
       "      <th>4</th>\n",
       "      <td>Afghanistan</td>\n",
       "      <td>Yield</td>\n",
       "      <td>Wheat</td>\n",
       "      <td>1965</td>\n",
       "      <td>100 g/ha</td>\n",
       "      <td>9723</td>\n",
       "    </tr>\n",
       "    <tr>\n",
       "      <th>...</th>\n",
       "      <td>...</td>\n",
       "      <td>...</td>\n",
       "      <td>...</td>\n",
       "      <td>...</td>\n",
       "      <td>...</td>\n",
       "      <td>...</td>\n",
       "    </tr>\n",
       "    <tr>\n",
       "      <th>6732</th>\n",
       "      <td>Zimbabwe</td>\n",
       "      <td>Yield</td>\n",
       "      <td>Wheat</td>\n",
       "      <td>2017</td>\n",
       "      <td>100 g/ha</td>\n",
       "      <td>17542</td>\n",
       "    </tr>\n",
       "    <tr>\n",
       "      <th>6733</th>\n",
       "      <td>Zimbabwe</td>\n",
       "      <td>Yield</td>\n",
       "      <td>Wheat</td>\n",
       "      <td>2018</td>\n",
       "      <td>100 g/ha</td>\n",
       "      <td>26946</td>\n",
       "    </tr>\n",
       "    <tr>\n",
       "      <th>6734</th>\n",
       "      <td>Zimbabwe</td>\n",
       "      <td>Yield</td>\n",
       "      <td>Wheat</td>\n",
       "      <td>2019</td>\n",
       "      <td>100 g/ha</td>\n",
       "      <td>39149</td>\n",
       "    </tr>\n",
       "    <tr>\n",
       "      <th>6735</th>\n",
       "      <td>Zimbabwe</td>\n",
       "      <td>Yield</td>\n",
       "      <td>Wheat</td>\n",
       "      <td>2020</td>\n",
       "      <td>100 g/ha</td>\n",
       "      <td>47796</td>\n",
       "    </tr>\n",
       "    <tr>\n",
       "      <th>6736</th>\n",
       "      <td>Zimbabwe</td>\n",
       "      <td>Yield</td>\n",
       "      <td>Wheat</td>\n",
       "      <td>2021</td>\n",
       "      <td>100 g/ha</td>\n",
       "      <td>50759</td>\n",
       "    </tr>\n",
       "  </tbody>\n",
       "</table>\n",
       "<p>5236 rows × 6 columns</p>\n",
       "</div>"
      ],
      "text/plain": [
       "             Area Element   Item  Year      Unit  Value\n",
       "0     Afghanistan   Yield  Wheat  1961  100 g/ha  10220\n",
       "1     Afghanistan   Yield  Wheat  1962  100 g/ha   9735\n",
       "2     Afghanistan   Yield  Wheat  1963  100 g/ha   8317\n",
       "3     Afghanistan   Yield  Wheat  1964  100 g/ha   9510\n",
       "4     Afghanistan   Yield  Wheat  1965  100 g/ha   9723\n",
       "...           ...     ...    ...   ...       ...    ...\n",
       "6732     Zimbabwe   Yield  Wheat  2017  100 g/ha  17542\n",
       "6733     Zimbabwe   Yield  Wheat  2018  100 g/ha  26946\n",
       "6734     Zimbabwe   Yield  Wheat  2019  100 g/ha  39149\n",
       "6735     Zimbabwe   Yield  Wheat  2020  100 g/ha  47796\n",
       "6736     Zimbabwe   Yield  Wheat  2021  100 g/ha  50759\n",
       "\n",
       "[5236 rows x 6 columns]"
      ]
     },
     "execution_count": 108,
     "metadata": {},
     "output_type": "execute_result"
    }
   ],
   "source": [
    "wheat_df_filled"
   ]
  },
  {
   "cell_type": "code",
   "execution_count": null,
   "id": "6dad364f",
   "metadata": {},
   "outputs": [],
   "source": []
  }
 ],
 "metadata": {
  "kernelspec": {
   "display_name": "Python 3",
   "language": "python",
   "name": "python3"
  },
  "language_info": {
   "codemirror_mode": {
    "name": "ipython",
    "version": 3
   },
   "file_extension": ".py",
   "mimetype": "text/x-python",
   "name": "python",
   "nbconvert_exporter": "python",
   "pygments_lexer": "ipython3",
   "version": "3.8.5"
  }
 },
 "nbformat": 4,
 "nbformat_minor": 5
}
